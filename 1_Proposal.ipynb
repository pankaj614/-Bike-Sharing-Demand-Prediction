{
 "cells": [
  {
   "cell_type": "markdown",
   "metadata": {},
   "source": [
    "# Bike Sharing Demand Prediction - Proposal\n",
    "\n",
    "\n",
    "## Overview\n",
    "\n",
    "Kaggle competition: https://www.kaggle.com/c/bike-sharing-demand\n",
    "\n",
    "Bike sharing systems are a means of renting bicycles where the process of obtaining membership, rental, and bike return is automated via a network of kiosk locations throughout a city. Using these systems, people are able rent a bike from a one location and return it to a different place on an as-needed basis. Currently, there are over 500 bike-sharing programs around the world.\n",
    "\n",
    "## Data Set Overview\n",
    "The data set (https://www.kaggle.com/c/bike-sharing-demand/data) consists of two spreadsheets - 1. train.csv, containing data to train the prediction algorithm and 2. test.csv, containing data to test the prediction algorithm. The data fields in the train.csv are enumerated below  \n",
    "- datetime - hourly date + timestamp  \n",
    "- season -  1 = spring, 2 = summer, 3 = fall, 4 = winter  \n",
    "- holiday - whether the day is considered a holiday  \n",
    "- workingday - whether the day is neither a weekend nor holiday  \n",
    "- weather -\n",
    "     - 1: Clear, Few clouds, Partly cloudy, Partly cloudy  \n",
    "     - 2: Mist + Cloudy, Mist + Broken clouds, Mist + Few clouds, Mist  \n",
    "     - 3: Light Snow, Light Rain + Thunderstorm + Scattered clouds, Light Rain + Scattered clouds  \n",
    "     - 4: Heavy Rain + Ice Pallets + Thunderstorm + Mist, Snow + Fog  \n",
    "- temp - temperature in Celsius  \n",
    "- atemp - \"feels like\" temperature in Celsius  \n",
    "- humidity - relative humidity  \n",
    "- windspeed - wind speed  \n",
    "- casual - number of non-registered user rentals initiated  \n",
    "- registered - number of registered user rentals initiated  \n",
    "- count - number of total rentals  \n",
    "\n",
    "\n",
    "## Problem Statement \n",
    "\n",
    "The goal of this project is to combine the historical bike usage patterns with the weather data in order to forecast bike rental demand. \n",
    "\n",
    "+ Target Column to be predicted: 'count'\n",
    "+ Input Columns used as variables (8 columns): ['datetime', 'season', 'holiday', 'workingday', 'weather', 'temp', 'atemp', 'humidity', 'windspeed']\n",
    "    * The other two columns (casual and registered) comprises of the split-up of the target column 'count'. \n",
    "    \n",
    "## Motivation\n",
    "\n",
    "Several bike/scooter ride sharing facilities (e.g., Bird, Capital Bikeshare, Citi Bike) have started up lately especially in metropolitan cities like San Francisco, New York, Chicago and Los Angeles, and one of the most important problem from a business point of view is to predict the bike demand on any particular day. While having excess bikes results in wastage of resource (both with respect to bike maintenance and the land/bike stand required for parking and security), having fewer bikes leads to revenue loss (ranging from a short term loss due to missing out on immediate customers to potential longer term loss due to loss in future customer base), Thus, having a estimate on the demands would enable efficient functioning of these companies. "
   ]
  }
 ],
 "metadata": {
  "anaconda-cloud": {},
  "kernelspec": {
   "display_name": "Python 3",
   "language": "python",
   "name": "python3"
  },
  "language_info": {
   "codemirror_mode": {
    "name": "ipython",
    "version": 3
   },
   "file_extension": ".py",
   "mimetype": "text/x-python",
   "name": "python",
   "nbconvert_exporter": "python",
   "pygments_lexer": "ipython3",
   "version": "3.7.0"
  }
 },
 "nbformat": 4,
 "nbformat_minor": 1
}
